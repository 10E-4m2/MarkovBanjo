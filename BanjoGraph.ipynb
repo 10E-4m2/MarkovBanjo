{
 "cells": [
  {
   "cell_type": "code",
   "execution_count": 3,
   "metadata": {},
   "outputs": [],
   "source": [
    "# Import Modules\n",
    "import numpy as np\n",
    "import random as rm"
   ]
  },
  {
   "cell_type": "code",
   "execution_count": 237,
   "metadata": {},
   "outputs": [],
   "source": [
    "# Definie Response Space\n",
    "strings = [\"1m\", \"2m\", \"2i\", \"3i\", \"3t\", \"4t\", \"5t\", \"(1,3)p\", \"(1,5)p\",\"r\"]\n",
    "# string indicates string number and finger (mid, idx, thb, pinch)\n",
    "# also includes \"r\" character for rest\n",
    "\n",
    "frets = range(23)\n",
    "# frets number 0-22, except from string 5 which has frets (0, 6-22) but not 1-5\n",
    "\n",
    "states = [[x,y] for x in strings for y in frets]\n",
    "invalid = [(\"5t\", 1), (\"5t\", 2), (\"5t\", 3), (\"5t\", 4), (\"5t\", 5)]\n",
    "\n",
    "states = [j for j in states if j not in invalid]"
   ]
  },
  {
   "cell_type": "code",
   "execution_count": 282,
   "metadata": {},
   "outputs": [
    {
     "name": "stdout",
     "output_type": "stream",
     "text": [
      "[['1m', '2i'], ['1m', '3i'], ['1m', '3t'], ['1m', '4t'], ['1m', '5t'], ['1m', '(1,3)p'], ['1m', '(1,5)p'], ['1m', 'r'], ['2m', '2i'], ['2m', '3i'], ['2m', '3t'], ['2m', '4t'], ['2m', '5t'], ['2m', '(1,3)p'], ['2m', '(1,5)p'], ['2m', 'r'], ['2i', '1m'], ['2i', '2m'], ['2i', '3t'], ['2i', '4t'], ['2i', '5t'], ['2i', '(1,3)p'], ['2i', '(1,5)p'], ['2i', 'r'], ['3i', '1m'], ['3i', '2m'], ['3i', '3t'], ['3i', '4t'], ['3i', '5t'], ['3i', '(1,3)p'], ['3i', '(1,5)p'], ['3i', 'r'], ['3t', '1m'], ['3t', '2m'], ['3t', '2i'], ['3t', '3i'], ['3t', '(1,3)p'], ['3t', '(1,5)p'], ['3t', 'r'], ['4t', '1m'], ['4t', '2m'], ['4t', '2i'], ['4t', '3i'], ['4t', '(1,3)p'], ['4t', '(1,5)p'], ['4t', 'r'], ['5t', '1m'], ['5t', '2m'], ['5t', '2i'], ['5t', '3i'], ['5t', '(1,3)p'], ['5t', '(1,5)p'], ['5t', 'r'], ['(1,3)p', 'r'], ['(1,5)p', 'r'], ['r', '1m'], ['r', '2m'], ['r', '2i'], ['r', '3i'], ['r', '3t'], ['r', '4t'], ['r', '5t'], ['r', '(1,3)p'], ['r', '(1,5)p'], ['r', 'r']]\n"
     ]
    }
   ],
   "source": [
    "# Define Starting Constraints on Transitions\n",
    "# Constraints on Strings/Fingers\n",
    "string_transitions = [[x,y] for x in strings for y in strings if x !=y or x == \"r\"]\n",
    "\n",
    "repeat_fingers = [x for x in string_transitions if x[0] != \"r\" and x[0][-1] == x[1][-1]]\n",
    "# do not want to pick with same finger twice in a row\n",
    "\n",
    "bad_sequences = [x for x in string_transitions if x[0][-1] == \"p\" and x[1][-1] != \"r\"]\n",
    "# cannot easily follow a pinch by anything other than a rest\n",
    "\n",
    "other_exceptions = [('1m', '(1,3)p'), ('1m', '(1,5)p'), ('3t', '(1,3)p'), \n",
    "                    ('3t', '(1,5)p'), ('4t', '(1,3)p'), ('4t', '(1,5)p'),\n",
    "                    ('5t', '(1,3)p'), ('5t', '(1,5)p'), ('3t', '3i'), \n",
    "                    ('3i', '3t'), ('3i', '(1,3)p')]\n",
    "\n",
    "string_transitions = [x for x in string_transitions if x not in repeat_fingers]\n",
    "string_transitions = [x for x in string_transitions if x not in bad_sequences]\n",
    "string_transitions = [x for x in string_transitions if x not in other_exceptions]\n",
    "\n",
    "print(string_transitions)\n",
    "\n",
    "# Constraints on Frets\n",
    "fret_transitions = [(x,y) for x in frets for y in frets if abs(x-y)<=4]\n",
    "#fret_transitions"
   ]
  },
  {
   "cell_type": "code",
   "execution_count": 283,
   "metadata": {},
   "outputs": [],
   "source": [
    "def add_note(prior_notes, string_steps, fret_steps):\n",
    "    \"\"\"\n",
    "    A simple function to append banjo notes to a sequence based\n",
    "    \n",
    "    List 'prior_notes' assumed to give sequential list of 'notes'\n",
    "    \n",
    "    'Notes' assumed to be lists of form (a,b)\n",
    "    |\n",
    "    Note (a,b) corresponds to playing string 'a' fretted at fret 'b'\n",
    "    \"\"\"\n",
    "    #print(prior_notes)\n",
    "    last_note = prior_notes[-1]\n",
    "    last_string =  last_note[0]\n",
    "    #print(last_string)\n",
    "    last_fret = last_note[1]\n",
    "    #print(last_fret)\n",
    "   \n",
    "\n",
    "    string_candidates = [x for x in string_steps if x[0] == last_string]\n",
    "    fret_candidates = [y for y in fret_steps if y[0] == last_fret]\n",
    "    #print(string_candidates)\n",
    "    #print(string_candidates[0][1])\n",
    "    #print(fret_candidates)\n",
    "    #print(fret_candidates[0][1])\n",
    "    \n",
    "    check = 0\n",
    "    while check == 0:\n",
    "        next_string = rm.sample(string_candidates,1)[0][1]\n",
    "        next_fret = rm.sample(fret_candidates,1)[0][1]\n",
    "        next_note = [next_string, next_fret]\n",
    "        if next_note in states:\n",
    "            check = 1\n",
    "            \n",
    "    return(next_note)"
   ]
  },
  {
   "cell_type": "code",
   "execution_count": 291,
   "metadata": {},
   "outputs": [],
   "source": [
    "def roll_generator(state_space, string_steps, fret_steps):\n",
    "    generated_sequence = []\n",
    "    note = rm.sample(states,1)[0]\n",
    "    generated_sequence.append(note)\n",
    "    #print(generated_sequence)\n",
    "\n",
    "    for i in range(7):\n",
    "        generated_sequence.append(add_note(generated_sequence, string_steps, fret_steps))\n",
    "\n",
    "    return(generated_sequence)"
   ]
  },
  {
   "cell_type": "code",
   "execution_count": 292,
   "metadata": {},
   "outputs": [
    {
     "data": {
      "text/plain": [
       "[['5t', 19],\n",
       " ['r', 18],\n",
       " ['4t', 21],\n",
       " ['r', 17],\n",
       " ['4t', 14],\n",
       " ['3i', 15],\n",
       " ['r', 14],\n",
       " ['1m', 16]]"
      ]
     },
     "execution_count": 292,
     "metadata": {},
     "output_type": "execute_result"
    }
   ],
   "source": [
    "roll_generator(states, string_transitions, fret_transitions)"
   ]
  },
  {
   "cell_type": "code",
   "execution_count": null,
   "metadata": {},
   "outputs": [],
   "source": []
  },
  {
   "cell_type": "code",
   "execution_count": null,
   "metadata": {},
   "outputs": [],
   "source": []
  }
 ],
 "metadata": {
  "kernelspec": {
   "display_name": "Python 3",
   "language": "python",
   "name": "python3"
  },
  "language_info": {
   "codemirror_mode": {
    "name": "ipython",
    "version": 3
   },
   "file_extension": ".py",
   "mimetype": "text/x-python",
   "name": "python",
   "nbconvert_exporter": "python",
   "pygments_lexer": "ipython3",
   "version": "3.7.6"
  }
 },
 "nbformat": 4,
 "nbformat_minor": 4
}
